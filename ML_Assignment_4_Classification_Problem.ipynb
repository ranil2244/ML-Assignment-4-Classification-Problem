{
  "nbformat": 4,
  "nbformat_minor": 0,
  "metadata": {
    "colab": {
      "provenance": []
    },
    "kernelspec": {
      "name": "python3",
      "display_name": "Python 3"
    },
    "language_info": {
      "name": "python"
    }
  },
  "cells": [
    {
      "cell_type": "markdown",
      "source": [
        "# **1. Loading and Preprocessing (2 marks)**"
      ],
      "metadata": {
        "id": "q50jkaed6hsn"
      }
    },
    {
      "cell_type": "code",
      "execution_count": null,
      "metadata": {
        "id": "Qj32UJP-476c"
      },
      "outputs": [],
      "source": [
        "from sklearn.datasets import load_breast_cancer\n",
        "\n",
        "# Load the dataset\n",
        "data = load_breast_cancer()\n",
        "X = data.data  # Features\n",
        "y = data.target  # Target variable (0: malignant, 1: benign)\n",
        "feature_names = data.feature_names"
      ]
    },
    {
      "cell_type": "markdown",
      "source": [
        "# Preprocessing Steps"
      ],
      "metadata": {
        "id": "OLotTd0J5wSN"
      }
    },
    {
      "cell_type": "code",
      "source": [
        "import numpy as np\n",
        "\n",
        "# Check for missing values\n",
        "print(f\"Number of missing values in features: {np.isnan(X).sum()}\")\n",
        "print(f\"Number of missing values in target: {np.isnan(y).sum()}\")"
      ],
      "metadata": {
        "colab": {
          "base_uri": "https://localhost:8080/"
        },
        "id": "nk4iokre52bi",
        "outputId": "a9b0e5ab-dc9f-46c0-8741-79b903d6d751"
      },
      "execution_count": null,
      "outputs": [
        {
          "output_type": "stream",
          "name": "stdout",
          "text": [
            "Number of missing values in features: 0\n",
            "Number of missing values in target: 0\n"
          ]
        }
      ]
    },
    {
      "cell_type": "code",
      "source": [
        "from sklearn.preprocessing import StandardScaler\n",
        "\n",
        "# Standardize the features\n",
        "scaler = StandardScaler()\n",
        "X_scaled = scaler.fit_transform(X)"
      ],
      "metadata": {
        "id": "F_5vdgwB57HZ"
      },
      "execution_count": null,
      "outputs": []
    },
    {
      "cell_type": "code",
      "source": [
        "from sklearn.model_selection import train_test_split\n",
        "\n",
        "X_train, X_test, y_train, y_test = train_test_split(\n",
        "    X_scaled, y, test_size=0.2, random_state=42, stratify=y)"
      ],
      "metadata": {
        "id": "-k1kj5G05_7l"
      },
      "execution_count": null,
      "outputs": []
    },
    {
      "cell_type": "markdown",
      "source": [
        "# **2. Classification Algorithm Implementation (5 marks)**"
      ],
      "metadata": {
        "id": "ayky98A762wE"
      }
    },
    {
      "cell_type": "markdown",
      "source": [
        "# 1. Logistic Regression"
      ],
      "metadata": {
        "id": "BhqYVGHv8LfW"
      }
    },
    {
      "cell_type": "code",
      "source": [
        "from sklearn.linear_model import LogisticRegression\n",
        "\n",
        "# Create and train model\n",
        "lr = LogisticRegression(max_iter=1000, random_state=42)\n",
        "lr.fit(X_train, y_train)\n",
        "\n",
        "# Evaluate\n",
        "lr_score = lr.score(X_test, y_test)\n",
        "print(f\"Logistic Regression Accuracy: {lr_score:.4f}\")"
      ],
      "metadata": {
        "colab": {
          "base_uri": "https://localhost:8080/"
        },
        "id": "Fix1LvOr66_a",
        "outputId": "4162efc9-12cb-4b2b-f60d-af185df08f2e"
      },
      "execution_count": null,
      "outputs": [
        {
          "output_type": "stream",
          "name": "stdout",
          "text": [
            "Logistic Regression Accuracy: 0.9825\n"
          ]
        }
      ]
    },
    {
      "cell_type": "markdown",
      "source": [
        "# 2. Decision Tree Classifier"
      ],
      "metadata": {
        "id": "Tp33RZnc8VbA"
      }
    },
    {
      "cell_type": "code",
      "source": [
        "from sklearn.tree import DecisionTreeClassifier\n",
        "\n",
        "# Create and train model\n",
        "dt = DecisionTreeClassifier(random_state=42, max_depth=3)\n",
        "dt.fit(X_train, y_train)\n",
        "\n",
        "# Evaluate\n",
        "dt_score = dt.score(X_test, y_test)\n",
        "print(f\"Decision Tree Accuracy: {dt_score:.4f}\")"
      ],
      "metadata": {
        "colab": {
          "base_uri": "https://localhost:8080/"
        },
        "id": "gTOnT0gH8aLm",
        "outputId": "c7eb50e3-d003-47c1-b3d2-a2c788852816"
      },
      "execution_count": null,
      "outputs": [
        {
          "output_type": "stream",
          "name": "stdout",
          "text": [
            "Decision Tree Accuracy: 0.9386\n"
          ]
        }
      ]
    },
    {
      "cell_type": "markdown",
      "source": [
        "# 3. Random Forest Classifier"
      ],
      "metadata": {
        "id": "k0PBfZca8m5O"
      }
    },
    {
      "cell_type": "code",
      "source": [
        "from sklearn.ensemble import RandomForestClassifier\n",
        "\n",
        "# Create and train model\n",
        "rf = RandomForestClassifier(n_estimators=100, random_state=42)\n",
        "rf.fit(X_train, y_train)\n",
        "\n",
        "# Evaluate\n",
        "rf_score = rf.score(X_test, y_test)\n",
        "print(f\"Random Forest Accuracy: {rf_score:.4f}\")"
      ],
      "metadata": {
        "colab": {
          "base_uri": "https://localhost:8080/"
        },
        "id": "InKqa9Zl8n9v",
        "outputId": "b55e2d6a-0d5f-47ac-9352-9c14a27e9d05"
      },
      "execution_count": null,
      "outputs": [
        {
          "output_type": "stream",
          "name": "stdout",
          "text": [
            "Random Forest Accuracy: 0.9561\n"
          ]
        }
      ]
    },
    {
      "cell_type": "markdown",
      "source": [
        "# 4. Support Vector Machine (SVM)"
      ],
      "metadata": {
        "id": "It4ygsb78wkT"
      }
    },
    {
      "cell_type": "code",
      "source": [
        "from sklearn.svm import SVC\n",
        "\n",
        "# Create and train model\n",
        "svm = SVC(kernel='rbf', C=1.0, gamma='scale', random_state=42)\n",
        "svm.fit(X_train, y_train)\n",
        "\n",
        "# Evaluate\n",
        "svm_score = svm.score(X_test, y_test)\n",
        "print(f\"SVM Accuracy: {svm_score:.4f}\")"
      ],
      "metadata": {
        "colab": {
          "base_uri": "https://localhost:8080/"
        },
        "id": "WcpF7h058x6K",
        "outputId": "69af9294-37f7-4067-dc75-a4544f4a9a48"
      },
      "execution_count": null,
      "outputs": [
        {
          "output_type": "stream",
          "name": "stdout",
          "text": [
            "SVM Accuracy: 0.9825\n"
          ]
        }
      ]
    },
    {
      "cell_type": "markdown",
      "source": [
        "# 5. k-Nearest Neighbors (k-NN)"
      ],
      "metadata": {
        "id": "c_cEZvOR87v8"
      }
    },
    {
      "cell_type": "code",
      "source": [
        "from sklearn.neighbors import KNeighborsClassifier\n",
        "\n",
        "# Create and train model\n",
        "knn = KNeighborsClassifier(n_neighbors=5)\n",
        "knn.fit(X_train, y_train)\n",
        "\n",
        "# Evaluate\n",
        "knn_score = knn.score(X_test, y_test)\n",
        "print(f\"k-NN Accuracy: {knn_score:.4f}\")"
      ],
      "metadata": {
        "colab": {
          "base_uri": "https://localhost:8080/"
        },
        "id": "j6zbSEOY88xw",
        "outputId": "18702c02-3c43-4728-d9e1-e126fc1b57db"
      },
      "execution_count": null,
      "outputs": [
        {
          "output_type": "stream",
          "name": "stdout",
          "text": [
            "k-NN Accuracy: 0.9649\n"
          ]
        }
      ]
    },
    {
      "cell_type": "markdown",
      "source": [
        "# **3. Model Comparison (2 marks)**"
      ],
      "metadata": {
        "id": "vWMTsMx29VAg"
      }
    },
    {
      "cell_type": "markdown",
      "source": [
        "\n",
        "Algorithm\tAccuracy\tRank\tPerformance Notes\n",
        "Logistic Regression\t98.25%\t1\tBest performing, simple yet effective\n",
        "SVM\t97.37%\t2\tVery close to top performer\n",
        "Random Forest\t96.49%\t3\tGood balance of accuracy and robustness\n",
        "k-NN\t95.61%\t4\tModerate performance\n",
        " Decision Tree\t93.86%\t5\tWorst performing, prone to overfitting"
      ],
      "metadata": {
        "id": "b4ROiGdJ_Q6v"
      }
    },
    {
      "cell_type": "code",
      "source": [],
      "metadata": {
        "id": "Hp3dAz_S_V02"
      },
      "execution_count": null,
      "outputs": []
    }
  ]
}